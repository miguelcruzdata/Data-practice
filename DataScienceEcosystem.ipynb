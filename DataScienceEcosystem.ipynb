{
  "nbformat": 4,
  "nbformat_minor": 0,
  "metadata": {
    "colab": {
      "provenance": []
    },
    "kernelspec": {
      "name": "python3",
      "display_name": "Python 3"
    },
    "language_info": {
      "name": "python"
    }
  },
  "cells": [
    {
      "cell_type": "markdown",
      "source": [
        "# Data Science Tools and Ecosystem"
      ],
      "metadata": {
        "id": "R5Nny9zUCUJP"
      }
    },
    {
      "cell_type": "markdown",
      "source": [
        "In this notebook, Data Science Tools and Ecosystem are summarized.\n"
      ],
      "metadata": {
        "id": "oKvHHIsMCue3"
      }
    },
    {
      "cell_type": "markdown",
      "source": [
        "Some of the popular languages that Data Scientists use are:\n",
        "1. R\n",
        "2. Python\n",
        "3. Stata\n"
      ],
      "metadata": {
        "id": "A-efu7UrC3UU"
      }
    },
    {
      "cell_type": "markdown",
      "source": [
        "Some of the commonly used libraries used by Data Scientists include:\n",
        "1. Pandas\n",
        "2. Scipy\n",
        "3. Numpy"
      ],
      "metadata": {
        "id": "kWLt_an_DQ2B"
      }
    },
    {
      "cell_type": "markdown",
      "source": [
        "| Data Science Tools |\n",
        "|--------------------|\n",
        "| Jupyter Notebook   |\n",
        "| RStudio            |\n",
        "| VS Code            |\n"
      ],
      "metadata": {
        "id": "cnnasdjIDdPy"
      }
    },
    {
      "cell_type": "markdown",
      "source": [
        "### Below are a few examples of evaluating arithmetic expressions in Python.\n",
        "\n",
        "\n",
        "\n"
      ],
      "metadata": {
        "id": "zArQuHfCD3eK"
      }
    },
    {
      "cell_type": "markdown",
      "source": [
        "# This is a simple arithmetic expression to multiply then add integers.\n",
        "```python\n",
        "result = (3 * 4) + 5\n",
        "print(result)  # Output should be 17\n"
      ],
      "metadata": {
        "id": "uL7MsC0QESGY"
      }
    },
    {
      "cell_type": "code",
      "source": [
        "result = (3 * 4) + 5\n",
        "print(result)  # Output should be 17"
      ],
      "metadata": {
        "colab": {
          "base_uri": "https://localhost:8080/"
        },
        "id": "Njh8g3tREZsm",
        "outputId": "28e1f8ee-b878-4890-c729-742dfd835128"
      },
      "execution_count": 1,
      "outputs": [
        {
          "output_type": "stream",
          "name": "stdout",
          "text": [
            "17\n"
          ]
        }
      ]
    },
    {
      "cell_type": "code",
      "source": [
        "hours = 200 / 60\n",
        "print(hours)"
      ],
      "metadata": {
        "colab": {
          "base_uri": "https://localhost:8080/"
        },
        "id": "ijTXNiFOEkS3",
        "outputId": "07bb5509-d32e-4bd5-ef99-04b21ab39fb1"
      },
      "execution_count": 3,
      "outputs": [
        {
          "output_type": "stream",
          "name": "stdout",
          "text": [
            "3.3333333333333335\n"
          ]
        }
      ]
    },
    {
      "cell_type": "markdown",
      "source": [
        "**Objectives:**\n",
        "\n",
        "- List popular languages for Data Science\n",
        "- Introduce common development environments for Data Science\n",
        "- Explain basic arithmetic operations in Python\n",
        "- Convert units of time (e.g., minutes to hours) using Python\n"
      ],
      "metadata": {
        "id": "t_WspNiiSok-"
      }
    },
    {
      "cell_type": "markdown",
      "source": [
        "Author:\n",
        "## Miguel Cruz"
      ],
      "metadata": {
        "id": "7Tx5w0E4Ez2P"
      }
    }
  ]
}